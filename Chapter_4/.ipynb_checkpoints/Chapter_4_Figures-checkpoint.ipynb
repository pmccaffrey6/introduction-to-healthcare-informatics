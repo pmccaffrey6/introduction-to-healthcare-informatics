{
 "cells": [
  {
   "cell_type": "code",
   "execution_count": 15,
   "metadata": {},
   "outputs": [],
   "source": [
    "import pandas as pd\n",
    "\n",
    "from sqlalchemy import create_engine"
   ]
  },
  {
   "cell_type": "markdown",
   "metadata": {},
   "source": [
    "# Introduction\n",
    "\n",
    "We load in the tables we created in the `create-project-tables` folder"
   ]
  },
  {
   "cell_type": "code",
   "execution_count": 8,
   "metadata": {},
   "outputs": [],
   "source": [
    "provider_df = pd.read_csv('../create-project-tables/provider_table.csv')\n",
    "patient_id_icd = pd.read_csv('../create-project-tables/patient_diagnoses_table.csv')\n",
    "patient_demographics = pd.read_csv('../create-project-tables/patient_demographics_table.csv')\n",
    "visit_data = pd.read_csv('../create-project-tables/visit_data_table.csv')"
   ]
  },
  {
   "cell_type": "code",
   "execution_count": 16,
   "metadata": {},
   "outputs": [],
   "source": [
    "engine = create_engine('sqlite://', echo=False)\n",
    "\n",
    "provider_df.to_sql('providers', con=engine)\n",
    "patient_id_icd.to_sql('diagnoses', con=engine)\n",
    "patient_demographics.to_sql('patients', con=engine)\n",
    "visit_data.to_sql('visits', con=engine)"
   ]
  },
  {
   "cell_type": "code",
   "execution_count": null,
   "metadata": {},
   "outputs": [],
   "source": []
  }
 ],
 "metadata": {
  "kernelspec": {
   "display_name": "Python 3",
   "language": "python",
   "name": "python3"
  },
  "language_info": {
   "codemirror_mode": {
    "name": "ipython",
    "version": 3
   },
   "file_extension": ".py",
   "mimetype": "text/x-python",
   "name": "python",
   "nbconvert_exporter": "python",
   "pygments_lexer": "ipython3",
   "version": "3.6.9"
  }
 },
 "nbformat": 4,
 "nbformat_minor": 4
}
