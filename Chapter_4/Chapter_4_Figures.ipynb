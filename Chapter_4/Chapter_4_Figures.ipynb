{
 "cells": [
  {
   "cell_type": "code",
   "execution_count": 15,
   "metadata": {},
   "outputs": [],
   "source": [
    "import pandas as pd\n",
    "\n",
    "from sqlalchemy import create_engine"
   ]
  },
  {
   "cell_type": "markdown",
   "metadata": {},
   "source": [
    "# Introduction\n",
    "\n",
    "We load in the tables we created in the `create-project-tables` folder"
   ]
  },
  {
   "cell_type": "code",
   "execution_count": 47,
   "metadata": {},
   "outputs": [],
   "source": [
    "provider_df = pd.read_csv('../create-project-tables/provider_table.csv')\n",
    "patient_id_icd = pd.read_csv('../create-project-tables/patient_diagnoses_table.csv')\n",
    "patient_demographics = pd.read_csv('../create-project-tables/patient_demographics_table.csv')\n",
    "visit_data = pd.read_csv('../create-project-tables/visit_data_table.csv')"
   ]
  },
  {
   "cell_type": "code",
   "execution_count": 48,
   "metadata": {},
   "outputs": [],
   "source": [
    "engine = create_engine('sqlite://', echo=False)\n",
    "\n",
    "provider_df.to_sql('providers', con=engine)\n",
    "patient_id_icd.to_sql('diagnoses', con=engine)\n",
    "patient_demographics.to_sql('patients', con=engine)\n",
    "visit_data.to_sql('visits', con=engine)"
   ]
  },
  {
   "cell_type": "code",
   "execution_count": 52,
   "metadata": {},
   "outputs": [],
   "source": [
    "#engine.execute(\"SELECT * FROM visits\").fetchall()"
   ]
  },
  {
   "cell_type": "code",
   "execution_count": 53,
   "metadata": {},
   "outputs": [],
   "source": [
    "#visit_pre = pd.DataFrame(visit_data['visit_id'].value_counts())\n",
    "\n",
    "\n",
    "#visit_data[~visit_data['visit_id'].isin(visit_pre[visit_pre['visit_id']>1].index.values)].to_csv(\n",
    "#    '../create-project-tables/visit_data_table.csv', index=False)"
   ]
  },
  {
   "cell_type": "code",
   "execution_count": 46,
   "metadata": {},
   "outputs": [],
   "source": []
  },
  {
   "cell_type": "code",
   "execution_count": null,
   "metadata": {},
   "outputs": [],
   "source": []
  }
 ],
 "metadata": {
  "kernelspec": {
   "display_name": "Python 3",
   "language": "python",
   "name": "python3"
  },
  "language_info": {
   "codemirror_mode": {
    "name": "ipython",
    "version": 3
   },
   "file_extension": ".py",
   "mimetype": "text/x-python",
   "name": "python",
   "nbconvert_exporter": "python",
   "pygments_lexer": "ipython3",
   "version": "3.6.9"
  }
 },
 "nbformat": 4,
 "nbformat_minor": 4
}
