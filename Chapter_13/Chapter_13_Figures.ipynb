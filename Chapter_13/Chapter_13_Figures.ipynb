{
 "cells": [
  {
   "cell_type": "code",
   "execution_count": 6,
   "metadata": {},
   "outputs": [],
   "source": [
    "import pandas as pd\n",
    "import numpy as np\n",
    "\n",
    "import seaborn as sns\n",
    "\n",
    "import missingno as msno\n",
    "\n",
    "import matplotlib.pyplot as plt\n",
    "%matplotlib inline"
   ]
  },
  {
   "cell_type": "code",
   "execution_count": 98,
   "metadata": {},
   "outputs": [],
   "source": [
    "pacu_df = pd.read_csv('pacu_query_results.csv')\n",
    "\n",
    "pacu_df['InternalTemperature'] = pacu_df['InternalTemperature'].astype(str)\n",
    "\n",
    "pacu_df.replace(to_replace=\"39.4\", value=\"376.0\", inplace=True)"
   ]
  },
  {
   "cell_type": "markdown",
   "metadata": {},
   "source": [
    "# Figure 1: Head of DF"
   ]
  },
  {
   "cell_type": "code",
   "execution_count": 99,
   "metadata": {},
   "outputs": [
    {
     "data": {
      "text/html": [
       "<div>\n",
       "<style scoped>\n",
       "    .dataframe tbody tr th:only-of-type {\n",
       "        vertical-align: middle;\n",
       "    }\n",
       "\n",
       "    .dataframe tbody tr th {\n",
       "        vertical-align: top;\n",
       "    }\n",
       "\n",
       "    .dataframe thead th {\n",
       "        text-align: right;\n",
       "    }\n",
       "</style>\n",
       "<table border=\"1\" class=\"dataframe\">\n",
       "  <thead>\n",
       "    <tr style=\"text-align: right;\">\n",
       "      <th></th>\n",
       "      <th>Patient_ID</th>\n",
       "      <th>InternalTemperature</th>\n",
       "      <th>SurfaceTemperature</th>\n",
       "      <th>OxygenSat</th>\n",
       "      <th>BloodPressure</th>\n",
       "      <th>ComfortLevel</th>\n",
       "      <th>Vitals_RecordTime</th>\n",
       "      <th>DischargeLocation</th>\n",
       "    </tr>\n",
       "  </thead>\n",
       "  <tbody>\n",
       "    <tr>\n",
       "      <td>0</td>\n",
       "      <td>O16BWD</td>\n",
       "      <td>37.2</td>\n",
       "      <td>35.5</td>\n",
       "      <td>88.0</td>\n",
       "      <td>118/80</td>\n",
       "      <td>poor</td>\n",
       "      <td>2019-10-11 00:00:00</td>\n",
       "      <td>Floor 5</td>\n",
       "    </tr>\n",
       "    <tr>\n",
       "      <td>1</td>\n",
       "      <td>O16BWD</td>\n",
       "      <td>37.4</td>\n",
       "      <td>36.7</td>\n",
       "      <td>93.0</td>\n",
       "      <td>122/74</td>\n",
       "      <td>poor</td>\n",
       "      <td>2019-10-11 01:00:00</td>\n",
       "      <td>Floor 5</td>\n",
       "    </tr>\n",
       "    <tr>\n",
       "      <td>2</td>\n",
       "      <td>O16BWD</td>\n",
       "      <td>37.7</td>\n",
       "      <td>35.8</td>\n",
       "      <td>NaN</td>\n",
       "      <td>119/72</td>\n",
       "      <td>poor</td>\n",
       "      <td>2019-10-11 02:00:00</td>\n",
       "      <td>Floor 5</td>\n",
       "    </tr>\n",
       "    <tr>\n",
       "      <td>3</td>\n",
       "      <td>O16BWD</td>\n",
       "      <td>38.5</td>\n",
       "      <td>36.7</td>\n",
       "      <td>100.0</td>\n",
       "      <td>118/78</td>\n",
       "      <td>poor</td>\n",
       "      <td>2019-10-11 03:00:00</td>\n",
       "      <td>Floor 5</td>\n",
       "    </tr>\n",
       "    <tr>\n",
       "      <td>4</td>\n",
       "      <td>O16BWD</td>\n",
       "      <td>36.0</td>\n",
       "      <td>35.2</td>\n",
       "      <td>NaN</td>\n",
       "      <td>116/76</td>\n",
       "      <td>poor</td>\n",
       "      <td>2019-10-11 04:00:00</td>\n",
       "      <td>Floor 5</td>\n",
       "    </tr>\n",
       "  </tbody>\n",
       "</table>\n",
       "</div>"
      ],
      "text/plain": [
       "  Patient_ID InternalTemperature  SurfaceTemperature  OxygenSat BloodPressure  \\\n",
       "0     O16BWD                37.2                35.5       88.0        118/80   \n",
       "1     O16BWD                37.4                36.7       93.0        122/74   \n",
       "2     O16BWD                37.7                35.8        NaN        119/72   \n",
       "3     O16BWD                38.5                36.7      100.0        118/78   \n",
       "4     O16BWD                36.0                35.2        NaN        116/76   \n",
       "\n",
       "  ComfortLevel     Vitals_RecordTime DischargeLocation  \n",
       "0          poor  2019-10-11 00:00:00           Floor 5  \n",
       "1          poor  2019-10-11 01:00:00           Floor 5  \n",
       "2          poor  2019-10-11 02:00:00           Floor 5  \n",
       "3          poor  2019-10-11 03:00:00           Floor 5  \n",
       "4          poor  2019-10-11 04:00:00           Floor 5  "
      ]
     },
     "execution_count": 99,
     "metadata": {},
     "output_type": "execute_result"
    }
   ],
   "source": [
    "pacu_df.head()"
   ]
  },
  {
   "cell_type": "markdown",
   "metadata": {},
   "source": [
    "# Figure 2: Dtypes"
   ]
  },
  {
   "cell_type": "code",
   "execution_count": 100,
   "metadata": {},
   "outputs": [
    {
     "data": {
      "text/plain": [
       "Patient_ID              object\n",
       "InternalTemperature     object\n",
       "SurfaceTemperature     float64\n",
       "OxygenSat              float64\n",
       "BloodPressure           object\n",
       "ComfortLevel            object\n",
       "Vitals_RecordTime       object\n",
       "DischargeLocation       object\n",
       "dtype: object"
      ]
     },
     "execution_count": 100,
     "metadata": {},
     "output_type": "execute_result"
    }
   ],
   "source": [
    "pacu_df.dtypes"
   ]
  },
  {
   "cell_type": "code",
   "execution_count": 101,
   "metadata": {},
   "outputs": [],
   "source": [
    "pacu_df['InternalTemperature'] = pacu_df['InternalTemperature'].astype(float)"
   ]
  },
  {
   "cell_type": "markdown",
   "metadata": {},
   "source": [
    "# Figure 3: BloodPressure columns split into Diastolic and Systolic"
   ]
  },
  {
   "cell_type": "code",
   "execution_count": 102,
   "metadata": {},
   "outputs": [
    {
     "data": {
      "text/html": [
       "<div>\n",
       "<style scoped>\n",
       "    .dataframe tbody tr th:only-of-type {\n",
       "        vertical-align: middle;\n",
       "    }\n",
       "\n",
       "    .dataframe tbody tr th {\n",
       "        vertical-align: top;\n",
       "    }\n",
       "\n",
       "    .dataframe thead th {\n",
       "        text-align: right;\n",
       "    }\n",
       "</style>\n",
       "<table border=\"1\" class=\"dataframe\">\n",
       "  <thead>\n",
       "    <tr style=\"text-align: right;\">\n",
       "      <th></th>\n",
       "      <th>Patient_ID</th>\n",
       "      <th>InternalTemperature</th>\n",
       "      <th>SurfaceTemperature</th>\n",
       "      <th>OxygenSat</th>\n",
       "      <th>BloodPressure</th>\n",
       "      <th>ComfortLevel</th>\n",
       "      <th>Vitals_RecordTime</th>\n",
       "      <th>DischargeLocation</th>\n",
       "      <th>SystolicBloodPressure</th>\n",
       "      <th>DiastolicBloodPressure</th>\n",
       "    </tr>\n",
       "  </thead>\n",
       "  <tbody>\n",
       "    <tr>\n",
       "      <td>0</td>\n",
       "      <td>O16BWD</td>\n",
       "      <td>37.2</td>\n",
       "      <td>35.5</td>\n",
       "      <td>88.0</td>\n",
       "      <td>118/80</td>\n",
       "      <td>poor</td>\n",
       "      <td>2019-10-11 00:00:00</td>\n",
       "      <td>Floor 5</td>\n",
       "      <td>118</td>\n",
       "      <td>80</td>\n",
       "    </tr>\n",
       "    <tr>\n",
       "      <td>1</td>\n",
       "      <td>O16BWD</td>\n",
       "      <td>37.4</td>\n",
       "      <td>36.7</td>\n",
       "      <td>93.0</td>\n",
       "      <td>122/74</td>\n",
       "      <td>poor</td>\n",
       "      <td>2019-10-11 01:00:00</td>\n",
       "      <td>Floor 5</td>\n",
       "      <td>122</td>\n",
       "      <td>74</td>\n",
       "    </tr>\n",
       "    <tr>\n",
       "      <td>2</td>\n",
       "      <td>O16BWD</td>\n",
       "      <td>37.7</td>\n",
       "      <td>35.8</td>\n",
       "      <td>NaN</td>\n",
       "      <td>119/72</td>\n",
       "      <td>poor</td>\n",
       "      <td>2019-10-11 02:00:00</td>\n",
       "      <td>Floor 5</td>\n",
       "      <td>119</td>\n",
       "      <td>72</td>\n",
       "    </tr>\n",
       "    <tr>\n",
       "      <td>3</td>\n",
       "      <td>O16BWD</td>\n",
       "      <td>38.5</td>\n",
       "      <td>36.7</td>\n",
       "      <td>100.0</td>\n",
       "      <td>118/78</td>\n",
       "      <td>poor</td>\n",
       "      <td>2019-10-11 03:00:00</td>\n",
       "      <td>Floor 5</td>\n",
       "      <td>118</td>\n",
       "      <td>78</td>\n",
       "    </tr>\n",
       "    <tr>\n",
       "      <td>4</td>\n",
       "      <td>O16BWD</td>\n",
       "      <td>36.0</td>\n",
       "      <td>35.2</td>\n",
       "      <td>NaN</td>\n",
       "      <td>116/76</td>\n",
       "      <td>poor</td>\n",
       "      <td>2019-10-11 04:00:00</td>\n",
       "      <td>Floor 5</td>\n",
       "      <td>116</td>\n",
       "      <td>76</td>\n",
       "    </tr>\n",
       "  </tbody>\n",
       "</table>\n",
       "</div>"
      ],
      "text/plain": [
       "  Patient_ID  InternalTemperature  SurfaceTemperature  OxygenSat  \\\n",
       "0     O16BWD                 37.2                35.5       88.0   \n",
       "1     O16BWD                 37.4                36.7       93.0   \n",
       "2     O16BWD                 37.7                35.8        NaN   \n",
       "3     O16BWD                 38.5                36.7      100.0   \n",
       "4     O16BWD                 36.0                35.2        NaN   \n",
       "\n",
       "  BloodPressure ComfortLevel     Vitals_RecordTime DischargeLocation  \\\n",
       "0        118/80          poor  2019-10-11 00:00:00           Floor 5   \n",
       "1        122/74          poor  2019-10-11 01:00:00           Floor 5   \n",
       "2        119/72          poor  2019-10-11 02:00:00           Floor 5   \n",
       "3        118/78          poor  2019-10-11 03:00:00           Floor 5   \n",
       "4        116/76          poor  2019-10-11 04:00:00           Floor 5   \n",
       "\n",
       "  SystolicBloodPressure DiastolicBloodPressure  \n",
       "0                   118                     80  \n",
       "1                   122                     74  \n",
       "2                   119                     72  \n",
       "3                   118                     78  \n",
       "4                   116                     76  "
      ]
     },
     "execution_count": 102,
     "metadata": {},
     "output_type": "execute_result"
    }
   ],
   "source": [
    "pacu_df[['SystolicBloodPressure', 'DiastolicBloodPressure']] = pacu_df['BloodPressure'].str.split(pat=\"/\", expand=True)\n",
    "pacu_df.head()"
   ]
  },
  {
   "cell_type": "markdown",
   "metadata": {},
   "source": [
    "# Figure 4: Value Counts of InternalTemperature column"
   ]
  },
  {
   "cell_type": "code",
   "execution_count": 103,
   "metadata": {},
   "outputs": [
    {
     "data": {
      "text/plain": [
       "376.0     1\n",
       "39.0      1\n",
       "38.8      1\n",
       "38.7      1\n",
       "38.6      1\n",
       "38.5      4\n",
       "38.3      1\n",
       "38.2      5\n",
       "38.1      1\n",
       "38.0      2\n",
       "37.9      1\n",
       "37.8      5\n",
       "37.7      4\n",
       "37.6      9\n",
       "37.5      4\n",
       "37.4      7\n",
       "37.3      8\n",
       "37.2      9\n",
       "37.1      3\n",
       "37.0     10\n",
       "36.9     10\n",
       "36.8      9\n",
       "36.7      5\n",
       "36.6      6\n",
       "36.5     11\n",
       "36.4      3\n",
       "36.3      9\n",
       "36.2      4\n",
       "36.1      3\n",
       "36.0      6\n",
       "35.9      2\n",
       "35.8      2\n",
       "35.7      4\n",
       "35.6      1\n",
       "35.5      1\n",
       "35.3      3\n",
       "35.2      1\n",
       "35.1      1\n",
       "Name: InternalTemperature, dtype: int64"
      ]
     },
     "execution_count": 103,
     "metadata": {},
     "output_type": "execute_result"
    }
   ],
   "source": [
    "pacu_df['InternalTemperature'].value_counts().sort_index(ascending=False) "
   ]
  },
  {
   "cell_type": "markdown",
   "metadata": {},
   "source": [
    "# Figure 5: pacu_df describe"
   ]
  },
  {
   "cell_type": "code",
   "execution_count": 104,
   "metadata": {},
   "outputs": [
    {
     "data": {
      "text/html": [
       "<div>\n",
       "<style scoped>\n",
       "    .dataframe tbody tr th:only-of-type {\n",
       "        vertical-align: middle;\n",
       "    }\n",
       "\n",
       "    .dataframe tbody tr th {\n",
       "        vertical-align: top;\n",
       "    }\n",
       "\n",
       "    .dataframe thead th {\n",
       "        text-align: right;\n",
       "    }\n",
       "</style>\n",
       "<table border=\"1\" class=\"dataframe\">\n",
       "  <thead>\n",
       "    <tr style=\"text-align: right;\">\n",
       "      <th></th>\n",
       "      <th>InternalTemperature</th>\n",
       "      <th>SurfaceTemperature</th>\n",
       "      <th>OxygenSat</th>\n",
       "    </tr>\n",
       "  </thead>\n",
       "  <tbody>\n",
       "    <tr>\n",
       "      <td>count</td>\n",
       "      <td>159.000000</td>\n",
       "      <td>176.000000</td>\n",
       "      <td>158.000000</td>\n",
       "    </tr>\n",
       "    <tr>\n",
       "      <td>mean</td>\n",
       "      <td>39.083019</td>\n",
       "      <td>36.126705</td>\n",
       "      <td>95.303797</td>\n",
       "    </tr>\n",
       "    <tr>\n",
       "      <td>std</td>\n",
       "      <td>26.899982</td>\n",
       "      <td>0.739824</td>\n",
       "      <td>3.746266</td>\n",
       "    </tr>\n",
       "    <tr>\n",
       "      <td>min</td>\n",
       "      <td>35.100000</td>\n",
       "      <td>34.000000</td>\n",
       "      <td>85.000000</td>\n",
       "    </tr>\n",
       "    <tr>\n",
       "      <td>25%</td>\n",
       "      <td>36.450000</td>\n",
       "      <td>35.600000</td>\n",
       "      <td>92.000000</td>\n",
       "    </tr>\n",
       "    <tr>\n",
       "      <td>50%</td>\n",
       "      <td>36.900000</td>\n",
       "      <td>36.100000</td>\n",
       "      <td>95.000000</td>\n",
       "    </tr>\n",
       "    <tr>\n",
       "      <td>75%</td>\n",
       "      <td>37.500000</td>\n",
       "      <td>36.700000</td>\n",
       "      <td>99.000000</td>\n",
       "    </tr>\n",
       "    <tr>\n",
       "      <td>max</td>\n",
       "      <td>376.000000</td>\n",
       "      <td>38.100000</td>\n",
       "      <td>100.000000</td>\n",
       "    </tr>\n",
       "  </tbody>\n",
       "</table>\n",
       "</div>"
      ],
      "text/plain": [
       "       InternalTemperature  SurfaceTemperature   OxygenSat\n",
       "count           159.000000          176.000000  158.000000\n",
       "mean             39.083019           36.126705   95.303797\n",
       "std              26.899982            0.739824    3.746266\n",
       "min              35.100000           34.000000   85.000000\n",
       "25%              36.450000           35.600000   92.000000\n",
       "50%              36.900000           36.100000   95.000000\n",
       "75%              37.500000           36.700000   99.000000\n",
       "max             376.000000           38.100000  100.000000"
      ]
     },
     "execution_count": 104,
     "metadata": {},
     "output_type": "execute_result"
    }
   ],
   "source": [
    "pacu_df.describe()"
   ]
  },
  {
   "cell_type": "markdown",
   "metadata": {},
   "source": [
    "# Figure 6: pacu_df describe to matplotlib"
   ]
  },
  {
   "cell_type": "code",
   "execution_count": 105,
   "metadata": {},
   "outputs": [
    {
     "data": {
      "text/plain": [
       "<matplotlib.axes._subplots.AxesSubplot at 0x1a2ed5f160>"
      ]
     },
     "execution_count": 105,
     "metadata": {},
     "output_type": "execute_result"
    },
    {
     "data": {
      "image/png": "[encoded data removed]",
      "text/plain": [
       "<Figure size 432x288 with 1 Axes>"
      ]
     },
     "metadata": {
      "needs_background": "light"
     },
     "output_type": "display_data"
    }
   ],
   "source": [
    "pacu_df.boxplot(column=pacu_df.describe().columns.tolist()) "
   ]
  },
  {
   "cell_type": "markdown",
   "metadata": {},
   "source": [
    "# Figure 7: Seaborn missingness heatmap"
   ]
  },
  {
   "cell_type": "code",
   "execution_count": 106,
   "metadata": {},
   "outputs": [],
   "source": [
    "sample = pacu_df.sample(20)\n",
    "sample['BloodPressure'] = np.nan\n",
    "sample['SystolicBloodPressure'] = np.nan\n",
    "sample['DiastolicBloodPressure'] = np.nan\n",
    "sample['Vitals_RecordTime'] = np.nan\n",
    "\n",
    "pacu_df = pd.concat([pacu_df.reset_index(),sample], sort=False)\n",
    "pacu_df = pacu_df.sample(frac=1)"
   ]
  },
  {
   "cell_type": "code",
   "execution_count": 107,
   "metadata": {},
   "outputs": [
    {
     "data": {
      "text/plain": [
       "<matplotlib.axes._subplots.AxesSubplot at 0x1a2e0d4550>"
      ]
     },
     "execution_count": 107,
     "metadata": {},
     "output_type": "execute_result"
    },
    {
     "data": {
      "image/png": "[encoded data removed]",
      "text/plain": [
       "<Figure size 432x288 with 2 Axes>"
      ]
     },
     "metadata": {
      "needs_background": "light"
     },
     "output_type": "display_data"
    }
   ],
   "source": [
    "sns.heatmap( pd.isnull( pacu_df ) )"
   ]
  },
  {
   "cell_type": "markdown",
   "metadata": {},
   "source": [
    "# Figure 8: Missingno heat map"
   ]
  },
  {
   "cell_type": "code",
   "execution_count": 108,
   "metadata": {},
   "outputs": [
    {
     "data": {
      "text/plain": [
       "<matplotlib.axes._subplots.AxesSubplot at 0x1a2ef81da0>"
      ]
     },
     "execution_count": 108,
     "metadata": {},
     "output_type": "execute_result"
    },
    {
     "data": {
      "image/png": "[encoded data removed]",
      "text/plain": [
       "<Figure size 1440x864 with 2 Axes>"
      ]
     },
     "metadata": {
      "needs_background": "light"
     },
     "output_type": "display_data"
    }
   ],
   "source": [
    "msno.heatmap(pacu_df)"
   ]
  },
  {
   "cell_type": "code",
   "execution_count": 110,
   "metadata": {},
   "outputs": [
    {
     "data": {
      "text/plain": [
       "<matplotlib.axes._subplots.AxesSubplot at 0x1a2f1d9b38>"
      ]
     },
     "execution_count": 110,
     "metadata": {},
     "output_type": "execute_result"
    },
    {
     "data": {
      "image/png": "[encoded data removed]",
      "text/plain": [
       "<Figure size 1800x720 with 2 Axes>"
      ]
     },
     "metadata": {
      "needs_background": "light"
     },
     "output_type": "display_data"
    }
   ],
   "source": [
    "msno.matrix(pacu_df)"
   ]
  },
  {
   "cell_type": "markdown",
   "metadata": {},
   "source": [
    "# Figure 9: Non-tidy DataFrame"
   ]
  },
  {
   "cell_type": "code",
   "execution_count": 115,
   "metadata": {},
   "outputs": [
    {
     "data": {
      "text/html": [
       "<div>\n",
       "<style scoped>\n",
       "    .dataframe tbody tr th:only-of-type {\n",
       "        vertical-align: middle;\n",
       "    }\n",
       "\n",
       "    .dataframe tbody tr th {\n",
       "        vertical-align: top;\n",
       "    }\n",
       "\n",
       "    .dataframe thead th {\n",
       "        text-align: right;\n",
       "    }\n",
       "</style>\n",
       "<table border=\"1\" class=\"dataframe\">\n",
       "  <thead>\n",
       "    <tr style=\"text-align: right;\">\n",
       "      <th></th>\n",
       "      <th>patient_id</th>\n",
       "      <th>timepoint_1</th>\n",
       "      <th>timepoint_2</th>\n",
       "      <th>timepoint_3</th>\n",
       "    </tr>\n",
       "  </thead>\n",
       "  <tbody>\n",
       "    <tr>\n",
       "      <td>0</td>\n",
       "      <td>patient1</td>\n",
       "      <td>6.5</td>\n",
       "      <td>6.0</td>\n",
       "      <td>7.1</td>\n",
       "    </tr>\n",
       "    <tr>\n",
       "      <td>1</td>\n",
       "      <td>patient2</td>\n",
       "      <td>7.2</td>\n",
       "      <td>7.5</td>\n",
       "      <td>8.0</td>\n",
       "    </tr>\n",
       "    <tr>\n",
       "      <td>2</td>\n",
       "      <td>patient3</td>\n",
       "      <td>5.8</td>\n",
       "      <td>5.5</td>\n",
       "      <td>4.9</td>\n",
       "    </tr>\n",
       "    <tr>\n",
       "      <td>3</td>\n",
       "      <td>patient4</td>\n",
       "      <td>4.9</td>\n",
       "      <td>4.0</td>\n",
       "      <td>5.0</td>\n",
       "    </tr>\n",
       "  </tbody>\n",
       "</table>\n",
       "</div>"
      ],
      "text/plain": [
       "  patient_id  timepoint_1  timepoint_2  timepoint_3\n",
       "0   patient1          6.5          6.0          7.1\n",
       "1   patient2          7.2          7.5          8.0\n",
       "2   patient3          5.8          5.5          4.9\n",
       "3   patient4          4.9          4.0          5.0"
      ]
     },
     "execution_count": 115,
     "metadata": {},
     "output_type": "execute_result"
    }
   ],
   "source": [
    "non_tidy = pd.DataFrame(data={\n",
    "    'patient_id':['patient1','patient2','patient3','patient4'],\n",
    "    'timepoint_1':[6.5, 7.2, 5.8, 4.9],\n",
    "    'timepoint_2':[6.0, 7.5, 5.5, 4.0],\n",
    "    'timepoint_3':[7.1, 8.0, 4.9, 5.0]\n",
    "})\n",
    "\n",
    "non_tidy"
   ]
  },
  {
   "cell_type": "markdown",
   "metadata": {},
   "source": [
    "# Figure 10: Tidy DataFrame"
   ]
  },
  {
   "cell_type": "code",
   "execution_count": 116,
   "metadata": {},
   "outputs": [
    {
     "data": {
      "text/html": [
       "<div>\n",
       "<style scoped>\n",
       "    .dataframe tbody tr th:only-of-type {\n",
       "        vertical-align: middle;\n",
       "    }\n",
       "\n",
       "    .dataframe tbody tr th {\n",
       "        vertical-align: top;\n",
       "    }\n",
       "\n",
       "    .dataframe thead th {\n",
       "        text-align: right;\n",
       "    }\n",
       "</style>\n",
       "<table border=\"1\" class=\"dataframe\">\n",
       "  <thead>\n",
       "    <tr style=\"text-align: right;\">\n",
       "      <th></th>\n",
       "      <th>patient_id</th>\n",
       "      <th>variable</th>\n",
       "      <th>value</th>\n",
       "    </tr>\n",
       "  </thead>\n",
       "  <tbody>\n",
       "    <tr>\n",
       "      <td>0</td>\n",
       "      <td>patient1</td>\n",
       "      <td>timepoint_1</td>\n",
       "      <td>6.5</td>\n",
       "    </tr>\n",
       "    <tr>\n",
       "      <td>1</td>\n",
       "      <td>patient2</td>\n",
       "      <td>timepoint_1</td>\n",
       "      <td>7.2</td>\n",
       "    </tr>\n",
       "    <tr>\n",
       "      <td>2</td>\n",
       "      <td>patient3</td>\n",
       "      <td>timepoint_1</td>\n",
       "      <td>5.8</td>\n",
       "    </tr>\n",
       "    <tr>\n",
       "      <td>3</td>\n",
       "      <td>patient4</td>\n",
       "      <td>timepoint_1</td>\n",
       "      <td>4.9</td>\n",
       "    </tr>\n",
       "    <tr>\n",
       "      <td>4</td>\n",
       "      <td>patient1</td>\n",
       "      <td>timepoint_2</td>\n",
       "      <td>6.0</td>\n",
       "    </tr>\n",
       "    <tr>\n",
       "      <td>5</td>\n",
       "      <td>patient2</td>\n",
       "      <td>timepoint_2</td>\n",
       "      <td>7.5</td>\n",
       "    </tr>\n",
       "    <tr>\n",
       "      <td>6</td>\n",
       "      <td>patient3</td>\n",
       "      <td>timepoint_2</td>\n",
       "      <td>5.5</td>\n",
       "    </tr>\n",
       "    <tr>\n",
       "      <td>7</td>\n",
       "      <td>patient4</td>\n",
       "      <td>timepoint_2</td>\n",
       "      <td>4.0</td>\n",
       "    </tr>\n",
       "    <tr>\n",
       "      <td>8</td>\n",
       "      <td>patient1</td>\n",
       "      <td>timepoint_3</td>\n",
       "      <td>7.1</td>\n",
       "    </tr>\n",
       "    <tr>\n",
       "      <td>9</td>\n",
       "      <td>patient2</td>\n",
       "      <td>timepoint_3</td>\n",
       "      <td>8.0</td>\n",
       "    </tr>\n",
       "    <tr>\n",
       "      <td>10</td>\n",
       "      <td>patient3</td>\n",
       "      <td>timepoint_3</td>\n",
       "      <td>4.9</td>\n",
       "    </tr>\n",
       "    <tr>\n",
       "      <td>11</td>\n",
       "      <td>patient4</td>\n",
       "      <td>timepoint_3</td>\n",
       "      <td>5.0</td>\n",
       "    </tr>\n",
       "  </tbody>\n",
       "</table>\n",
       "</div>"
      ],
      "text/plain": [
       "   patient_id     variable  value\n",
       "0    patient1  timepoint_1    6.5\n",
       "1    patient2  timepoint_1    7.2\n",
       "2    patient3  timepoint_1    5.8\n",
       "3    patient4  timepoint_1    4.9\n",
       "4    patient1  timepoint_2    6.0\n",
       "5    patient2  timepoint_2    7.5\n",
       "6    patient3  timepoint_2    5.5\n",
       "7    patient4  timepoint_2    4.0\n",
       "8    patient1  timepoint_3    7.1\n",
       "9    patient2  timepoint_3    8.0\n",
       "10   patient3  timepoint_3    4.9\n",
       "11   patient4  timepoint_3    5.0"
      ]
     },
     "execution_count": 116,
     "metadata": {},
     "output_type": "execute_result"
    }
   ],
   "source": [
    "pd.melt(frame=non_tidy, id_vars='patient_id', value_vars=['timepoint_1','timepoint_2','timepoint_3'])"
   ]
  },
  {
   "cell_type": "markdown",
   "metadata": {},
   "source": [
    "# Figure 11: Un-pivoted DataFrame"
   ]
  },
  {
   "cell_type": "code",
   "execution_count": 154,
   "metadata": {},
   "outputs": [
    {
     "data": {
      "text/html": [
       "<div>\n",
       "<style scoped>\n",
       "    .dataframe tbody tr th:only-of-type {\n",
       "        vertical-align: middle;\n",
       "    }\n",
       "\n",
       "    .dataframe tbody tr th {\n",
       "        vertical-align: top;\n",
       "    }\n",
       "\n",
       "    .dataframe thead th {\n",
       "        text-align: right;\n",
       "    }\n",
       "</style>\n",
       "<table border=\"1\" class=\"dataframe\">\n",
       "  <thead>\n",
       "    <tr style=\"text-align: right;\">\n",
       "      <th></th>\n",
       "      <th>patient_id</th>\n",
       "      <th>vital_sign</th>\n",
       "      <th>value</th>\n",
       "    </tr>\n",
       "  </thead>\n",
       "  <tbody>\n",
       "    <tr>\n",
       "      <td>0</td>\n",
       "      <td>patient1</td>\n",
       "      <td>BloodPressure</td>\n",
       "      <td>128/80</td>\n",
       "    </tr>\n",
       "    <tr>\n",
       "      <td>1</td>\n",
       "      <td>patient2</td>\n",
       "      <td>BloodPressure</td>\n",
       "      <td>130/82</td>\n",
       "    </tr>\n",
       "    <tr>\n",
       "      <td>2</td>\n",
       "      <td>patient1</td>\n",
       "      <td>Temperature</td>\n",
       "      <td>37</td>\n",
       "    </tr>\n",
       "    <tr>\n",
       "      <td>3</td>\n",
       "      <td>patient2</td>\n",
       "      <td>Temperature</td>\n",
       "      <td>37.9</td>\n",
       "    </tr>\n",
       "  </tbody>\n",
       "</table>\n",
       "</div>"
      ],
      "text/plain": [
       "  patient_id     vital_sign   value\n",
       "0   patient1  BloodPressure  128/80\n",
       "1   patient2  BloodPressure  130/82\n",
       "2   patient1    Temperature      37\n",
       "3   patient2    Temperature    37.9"
      ]
     },
     "execution_count": 154,
     "metadata": {},
     "output_type": "execute_result"
    }
   ],
   "source": [
    "unpivoted_df = pd.DataFrame(data={\n",
    "    'patient_id':['patient1','patient2','patient1','patient2'],\n",
    "    'vital_sign':['BloodPressure','BloodPressure','Temperature','Temperature'],\n",
    "    'value':[\"128/80\", \"130/82\", 37.0, 37.9]\n",
    "})\n",
    "\n",
    "unpivoted_df"
   ]
  },
  {
   "cell_type": "code",
   "execution_count": 155,
   "metadata": {},
   "outputs": [
    {
     "data": {
      "text/html": [
       "<div>\n",
       "<style scoped>\n",
       "    .dataframe tbody tr th:only-of-type {\n",
       "        vertical-align: middle;\n",
       "    }\n",
       "\n",
       "    .dataframe tbody tr th {\n",
       "        vertical-align: top;\n",
       "    }\n",
       "\n",
       "    .dataframe thead th {\n",
       "        text-align: right;\n",
       "    }\n",
       "</style>\n",
       "<table border=\"1\" class=\"dataframe\">\n",
       "  <thead>\n",
       "    <tr style=\"text-align: right;\">\n",
       "      <th>vital_sign</th>\n",
       "      <th>BloodPressure</th>\n",
       "      <th>Temperature</th>\n",
       "    </tr>\n",
       "    <tr>\n",
       "      <th>patient_id</th>\n",
       "      <th></th>\n",
       "      <th></th>\n",
       "    </tr>\n",
       "  </thead>\n",
       "  <tbody>\n",
       "    <tr>\n",
       "      <td>patient1</td>\n",
       "      <td>128/80</td>\n",
       "      <td>37</td>\n",
       "    </tr>\n",
       "    <tr>\n",
       "      <td>patient2</td>\n",
       "      <td>130/82</td>\n",
       "      <td>37.9</td>\n",
       "    </tr>\n",
       "  </tbody>\n",
       "</table>\n",
       "</div>"
      ],
      "text/plain": [
       "vital_sign BloodPressure Temperature\n",
       "patient_id                          \n",
       "patient1          128/80          37\n",
       "patient2          130/82        37.9"
      ]
     },
     "execution_count": 155,
     "metadata": {},
     "output_type": "execute_result"
    }
   ],
   "source": [
    "unpivoted_df.pivot(index='patient_id', \n",
    "               columns='vital_sign', values='value',)"
   ]
  },
  {
   "cell_type": "code",
   "execution_count": null,
   "metadata": {},
   "outputs": [],
   "source": []
  }
 ],
 "metadata": {
  "kernelspec": {
   "display_name": "Python 3",
   "language": "python",
   "name": "python3"
  },
  "language_info": {
   "codemirror_mode": {
    "name": "ipython",
    "version": 3
   },
   "file_extension": ".py",
   "mimetype": "text/x-python",
   "name": "python",
   "nbconvert_exporter": "python",
   "pygments_lexer": "ipython3",
   "version": "3.6.9"
  }
 },
 "nbformat": 4,
 "nbformat_minor": 4
}
